{
 "cells": [
  {
   "cell_type": "code",
   "execution_count": null,
   "id": "5be1dbdf",
   "metadata": {},
   "outputs": [],
   "source": [
    "import pandas as pd"
   ]
  },
  {
   "cell_type": "code",
   "execution_count": 1,
   "id": "pretty-israeli",
   "metadata": {
    "_cell_guid": "b1076dfc-b9ad-4769-8c92-a6c4dae69d19",
    "_uuid": "8f2839f25d086af736a60e9eeb907d3b93b6e0e5",
    "execution": {
     "iopub.execute_input": "2021-05-31T03:07:25.416202Z",
     "iopub.status.busy": "2021-05-31T03:07:25.415059Z",
     "iopub.status.idle": "2021-05-31T03:07:27.473806Z",
     "shell.execute_reply": "2021-05-31T03:07:27.473004Z",
     "shell.execute_reply.started": "2021-05-29T15:37:32.076584Z"
    },
    "papermill": {
     "duration": 2.065483,
     "end_time": "2021-05-31T03:07:27.473991",
     "exception": false,
     "start_time": "2021-05-31T03:07:25.408508",
     "status": "completed"
    },
    "tags": []
   },
   "outputs": [],
   "source": [
    "test=pd.read_csv('/datasets/tabular-playground-series-may-2021/test.csv')\n",
    "y0=pd.read_csv(\"/datasets/lgbm/lgbm_optuna_tpe.csv\") # Optuna(lgbm)-tpe\n",
    "y1=pd.read_csv(\"/datasets/lgbm/lgbm_tuner.csv\") # Optuna(lgbm)-tuner\n",
    "y2=pd.read_csv(\"/datasets/lgbm/lgbm_blend.csv\") # Previous Blending\n",
    "y3=pd.read_csv(\"/datasets/mljar/mljar_1.csv\")  # mljar\n",
    "y4=pd.read_csv(\"/datasets/keras/hydra_df_blended.csv\")  # Keras Hydra\n",
    "y5=pd.read_csv(\"/datasets/lightautoml/lightautoml_1.csv\") # LightAutoML0\n",
    "y6=pd.read_csv(\"/datasets/lightautoml/lightautoml_2.csv\") # LightAutoML1\n",
    "y7=pd.read_csv(\"/datasets/lightautoml/lightautoml_3.csv\") # LightAutoML2\n",
    "y8=pd.read_csv(\"/datasets/lightautoml/lightautoml_6.csv\") # LightAutoML3 (Perfect)\n",
    "y9=pd.read_csv(\"/datasets/lightautoml/lightautoml_8.csv\") # LightAutoML & Catboost blend\n",
    "y10=pd.read_csv(\"/datasets/previous/1.07068.csv\") # Previous Blending\n",
    "y11=pd.read_csv(\"/datasets/previous/1.08386.csv\") # Previous Blending"
   ]
  },
  {
   "cell_type": "code",
   "execution_count": null,
   "id": "600b78f8",
   "metadata": {},
   "outputs": [],
   "source": [
    "weight = (1, 1, 1, 1, 1, 1, 1, 1, 1.2, 1, 1.2, 1.2)"
   ]
  },
  {
   "cell_type": "code",
   "execution_count": null,
   "id": "c3181fe2",
   "metadata": {},
   "outputs": [],
   "source": [
    "def blend(classname, weight):\n",
    "    weightSum = sum(weight)\n",
    "    return (y0[classname]*weight[0]+y1[classname]*weight[1]+y2[classname]*weight[2]+y3[classname]*weight[3]+y4[classname]*weight[4]+y5[classname]*weight[5]+y6[classname]*weight[6]+y7[classname]*weight[7]+y8[classname]*weight[8]+y9[classname]*weight[9]+y10[classname]*weight[10]+y11[classname]*weight[11]) / weightSum"
   ]
  },
  {
   "cell_type": "code",
   "execution_count": null,
   "id": "25e9d06d",
   "metadata": {},
   "outputs": [],
   "source": [
    "sub = pd.DataFrame({\n",
    "        \"id\": test.id,\n",
    "        \"Class_1\": blend(\"Class_1\", weight),\n",
    "        \"Class_2\": blend(\"Class_2\", weight),\n",
    "        \"Class_3\": blend(\"Class_3\", weight),\n",
    "        \"Class_4\": blend(\"Class_4\", weight)\n",
    "    })\n",
    "\n",
    "sub.to_csv('blend_v11_fin.csv', index=False)"
   ]
  }
 ],
 "metadata": {
  "kernelspec": {
   "display_name": "Python 3",
   "language": "python",
   "name": "python3"
  },
  "language_info": {
   "codemirror_mode": {
    "name": "ipython",
    "version": 3
   },
   "file_extension": ".py",
   "mimetype": "text/x-python",
   "name": "python",
   "nbconvert_exporter": "python",
   "pygments_lexer": "ipython3",
   "version": "3.9.2"
  },
  "papermill": {
   "default_parameters": {},
   "duration": 10.283967,
   "end_time": "2021-05-31T03:07:28.086490",
   "environment_variables": {},
   "exception": null,
   "input_path": "__notebook__.ipynb",
   "output_path": "__notebook__.ipynb",
   "parameters": {},
   "start_time": "2021-05-31T03:07:17.802523",
   "version": "2.3.3"
  }
 },
 "nbformat": 4,
 "nbformat_minor": 5
}
